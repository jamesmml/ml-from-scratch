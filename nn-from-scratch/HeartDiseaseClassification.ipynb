{
 "cells": [
  {
   "cell_type": "markdown",
   "id": "a85fb343-909c-4c90-867e-602299a45f49",
   "metadata": {},
   "source": [
    "# Machine Learning From Scratch\n",
    "This notebook implements dense neural networks for binary classification of heart disease using Python and NumPy. Two models are explored: one trained on all 13 clinical features, and another trained on a set of 5 commonly known features. The first model is designed to learn from a patient’s medical history, while the second simulates a basic, at-home screening approach.\n",
    "\n",
    "This project is part of my exploration of machine learning fundamentals.\n",
    "\n",
    "*\*Conversion from binary classification to one-hot encoding was to take advantage of He initialization, batching, and learning rate decay*"
   ]
  },
  {
   "cell_type": "code",
   "execution_count": 1,
   "id": "3ebfc59d-80cd-4088-9103-2ea09791a0f8",
   "metadata": {},
   "outputs": [],
   "source": [
    "import pandas as pd\n",
    "import numpy as np\n",
    "import NeuralNetworksFromScratchUtils as nn"
   ]
  },
  {
   "cell_type": "markdown",
   "id": "4d3bed75-fb77-4937-889d-e759a866e1cc",
   "metadata": {},
   "source": [
    "### [Heart Disease Classification](https://www.kaggle.com/datasets/johnsmith88/heart-disease-dataset)"
   ]
  },
  {
   "cell_type": "markdown",
   "id": "690f0985-ef40-45aa-be5d-15f33cd53cd2",
   "metadata": {},
   "source": [
    "#### Data Cleaning"
   ]
  },
  {
   "cell_type": "code",
   "execution_count": 45,
   "id": "d7c516ad-81cc-44fa-8088-36082d379d3e",
   "metadata": {},
   "outputs": [
    {
     "data": {
      "text/html": [
       "<div>\n",
       "<style scoped>\n",
       "    .dataframe tbody tr th:only-of-type {\n",
       "        vertical-align: middle;\n",
       "    }\n",
       "\n",
       "    .dataframe tbody tr th {\n",
       "        vertical-align: top;\n",
       "    }\n",
       "\n",
       "    .dataframe thead th {\n",
       "        text-align: right;\n",
       "    }\n",
       "</style>\n",
       "<table border=\"1\" class=\"dataframe\">\n",
       "  <thead>\n",
       "    <tr style=\"text-align: right;\">\n",
       "      <th></th>\n",
       "      <th>age</th>\n",
       "      <th>sex</th>\n",
       "      <th>cp</th>\n",
       "      <th>trestbps</th>\n",
       "      <th>chol</th>\n",
       "      <th>fbs</th>\n",
       "      <th>restecg</th>\n",
       "      <th>thalach</th>\n",
       "      <th>exang</th>\n",
       "      <th>oldpeak</th>\n",
       "      <th>slope</th>\n",
       "      <th>ca</th>\n",
       "      <th>thal</th>\n",
       "    </tr>\n",
       "  </thead>\n",
       "  <tbody>\n",
       "    <tr>\n",
       "      <th>0</th>\n",
       "      <td>52</td>\n",
       "      <td>1</td>\n",
       "      <td>0</td>\n",
       "      <td>125</td>\n",
       "      <td>212</td>\n",
       "      <td>0</td>\n",
       "      <td>1</td>\n",
       "      <td>168</td>\n",
       "      <td>0</td>\n",
       "      <td>1.0</td>\n",
       "      <td>2</td>\n",
       "      <td>2</td>\n",
       "      <td>3</td>\n",
       "    </tr>\n",
       "    <tr>\n",
       "      <th>1</th>\n",
       "      <td>53</td>\n",
       "      <td>1</td>\n",
       "      <td>0</td>\n",
       "      <td>140</td>\n",
       "      <td>203</td>\n",
       "      <td>1</td>\n",
       "      <td>0</td>\n",
       "      <td>155</td>\n",
       "      <td>1</td>\n",
       "      <td>3.1</td>\n",
       "      <td>0</td>\n",
       "      <td>0</td>\n",
       "      <td>3</td>\n",
       "    </tr>\n",
       "    <tr>\n",
       "      <th>2</th>\n",
       "      <td>70</td>\n",
       "      <td>1</td>\n",
       "      <td>0</td>\n",
       "      <td>145</td>\n",
       "      <td>174</td>\n",
       "      <td>0</td>\n",
       "      <td>1</td>\n",
       "      <td>125</td>\n",
       "      <td>1</td>\n",
       "      <td>2.6</td>\n",
       "      <td>0</td>\n",
       "      <td>0</td>\n",
       "      <td>3</td>\n",
       "    </tr>\n",
       "    <tr>\n",
       "      <th>3</th>\n",
       "      <td>61</td>\n",
       "      <td>1</td>\n",
       "      <td>0</td>\n",
       "      <td>148</td>\n",
       "      <td>203</td>\n",
       "      <td>0</td>\n",
       "      <td>1</td>\n",
       "      <td>161</td>\n",
       "      <td>0</td>\n",
       "      <td>0.0</td>\n",
       "      <td>2</td>\n",
       "      <td>1</td>\n",
       "      <td>3</td>\n",
       "    </tr>\n",
       "    <tr>\n",
       "      <th>4</th>\n",
       "      <td>62</td>\n",
       "      <td>0</td>\n",
       "      <td>0</td>\n",
       "      <td>138</td>\n",
       "      <td>294</td>\n",
       "      <td>1</td>\n",
       "      <td>1</td>\n",
       "      <td>106</td>\n",
       "      <td>0</td>\n",
       "      <td>1.9</td>\n",
       "      <td>1</td>\n",
       "      <td>3</td>\n",
       "      <td>2</td>\n",
       "    </tr>\n",
       "  </tbody>\n",
       "</table>\n",
       "</div>"
      ],
      "text/plain": [
       "   age  sex  cp  trestbps  chol  fbs  restecg  thalach  exang  oldpeak  slope  \\\n",
       "0   52    1   0       125   212    0        1      168      0      1.0      2   \n",
       "1   53    1   0       140   203    1        0      155      1      3.1      0   \n",
       "2   70    1   0       145   174    0        1      125      1      2.6      0   \n",
       "3   61    1   0       148   203    0        1      161      0      0.0      2   \n",
       "4   62    0   0       138   294    1        1      106      0      1.9      1   \n",
       "\n",
       "   ca  thal  \n",
       "0   2     3  \n",
       "1   0     3  \n",
       "2   0     3  \n",
       "3   1     3  \n",
       "4   3     2  "
      ]
     },
     "execution_count": 45,
     "metadata": {},
     "output_type": "execute_result"
    }
   ],
   "source": [
    "df = pd.read_csv(\"../../heart.csv\") # Use your path for heart.csv\n",
    "model1_data_df = df.loc[:, :\"thal\"]\n",
    "target = df[\"target\"].to_numpy()\n",
    "\n",
    "# Conversion of binary classification to one-hot encoding*\n",
    "new_target = np.zeros((target.shape[0], 2))\n",
    "new_target[np.arange(target.shape[0]), target[np.arange(target.shape[0])]] = 1\n",
    "\n",
    "model2_data_df = model1_data_df.loc[:, :\"chol\"]\n",
    "\n",
    "model1_data_df.head(5)\n",
    "# model2_data_df.head(5)"
   ]
  },
  {
   "cell_type": "code",
   "execution_count": 29,
   "id": "d4908d14-60d7-4b49-b082-34f07dd36bea",
   "metadata": {},
   "outputs": [],
   "source": [
    "# Assembling training, cross-validation, and test data sets\n",
    "model1_data = model1_data_df.to_numpy()\n",
    "model1_data = model1_data / model1_data.max(axis = 0)\n",
    "\n",
    "model2_data = model2_data_df.to_numpy()\n",
    "model2_data = model2_data / model2_data.max(axis = 0)\n",
    "\n",
    "num_examples = data.shape[0]\n",
    "permutation_array = np.random.permutation(num_examples)\n",
    "\n",
    "train_end = int(num_examples * .6)\n",
    "cv_end = int(num_examples * .8)\n",
    "\n",
    "train_data1 = model1_data[permutation_array[:train_end]]\n",
    "train_data2 = model2_data[permutation_array[:train_end]]\n",
    "train_target = new_target[permutation_array[:train_end]]\n",
    "\n",
    "cv_data1 = model1_data[permutation_array[train_end:cv_end]]\n",
    "cv_data2 = model2_data[permutation_array[train_end:cv_end]]\n",
    "cv_target = new_target[permutation_array[train_end:cv_end]]\n",
    "\n",
    "test_data1 = model1_data[permutation_array[cv_end:]]\n",
    "test_data2 = model2_data[permutation_array[cv_end:]]\n",
    "test_target  = new_target[permutation_array[cv_end:]]"
   ]
  },
  {
   "cell_type": "markdown",
   "id": "b657d8ab-37e9-4c9a-970a-022a5e6ac121",
   "metadata": {},
   "source": [
    "#### Model 1: Training and Testing"
   ]
  },
  {
   "cell_type": "code",
   "execution_count": 43,
   "id": "ea51e72b-7d33-454a-873e-bb409617edec",
   "metadata": {},
   "outputs": [
    {
     "name": "stdout",
     "output_type": "stream",
     "text": [
      "Status: Epoch 0 of 150\n",
      "CV Accuracy at Epoch 0: 0.5366\n",
      "Status: Epoch 20 of 150\n",
      "CV Accuracy at Epoch 20: 0.8341\n",
      "Status: Epoch 40 of 150\n",
      "CV Accuracy at Epoch 40: 0.8537\n",
      "Status: Epoch 60 of 150\n",
      "CV Accuracy at Epoch 60: 0.8780\n",
      "Status: Epoch 80 of 150\n",
      "CV Accuracy at Epoch 80: 0.8927\n",
      "Status: Epoch 100 of 150\n",
      "CV Accuracy at Epoch 100: 0.8976\n",
      "Status: Epoch 120 of 150\n",
      "CV Accuracy at Epoch 120: 0.8878\n",
      "Status: Epoch 140 of 150\n",
      "CV Accuracy at Epoch 140: 0.9024\n",
      "Model training is complete.\n"
     ]
    },
    {
     "data": {
      "text/plain": [
       "0.9024390243902439"
      ]
     },
     "execution_count": 43,
     "metadata": {},
     "output_type": "execute_result"
    }
   ],
   "source": [
    "# Model Training\n",
    "layer_list = [128, 64, 32, 16, 8, 2] ; epochs = 150 ; alpha = .01 ; batch_size = 40\n",
    "W1, B1 = nn.train_neural_network_multiclass_w_tuning(train_data1,train_target,layer_list,epochs,alpha,batch_size,cv_data1,cv_target)\n",
    "\n",
    "yhat = nn.multi_class_predict(cv_data1,W1,B1)\n",
    "nn.multi_class_accuracy(cv_target,yhat)"
   ]
  },
  {
   "cell_type": "code",
   "execution_count": 44,
   "id": "47a01de6-860c-41bb-a97c-ce3c7f9deec8",
   "metadata": {},
   "outputs": [
    {
     "data": {
      "text/plain": [
       "0.8878048780487805"
      ]
     },
     "execution_count": 44,
     "metadata": {},
     "output_type": "execute_result"
    }
   ],
   "source": [
    "# Model Testing\n",
    "yhat = nn.multi_class_predict(test_data1,W1,B1)\n",
    "nn.multi_class_accuracy(test_target,yhat)"
   ]
  },
  {
   "cell_type": "markdown",
   "id": "90196d3e-a40e-4797-9d3a-656f2278d43a",
   "metadata": {},
   "source": [
    "#### Model 2: Training and Testing"
   ]
  },
  {
   "cell_type": "code",
   "execution_count": 40,
   "id": "b3a53b4d-3b23-4aa8-8733-92626e155f2f",
   "metadata": {},
   "outputs": [
    {
     "name": "stdout",
     "output_type": "stream",
     "text": [
      "Status: Epoch 0 of 150\n",
      "CV Accuracy at Epoch 0: 0.6829\n",
      "Status: Epoch 20 of 150\n",
      "CV Accuracy at Epoch 20: 0.8195\n",
      "Status: Epoch 40 of 150\n",
      "CV Accuracy at Epoch 40: 0.8146\n",
      "Status: Epoch 60 of 150\n",
      "CV Accuracy at Epoch 60: 0.8146\n",
      "Status: Epoch 80 of 150\n",
      "CV Accuracy at Epoch 80: 0.8146\n",
      "Status: Epoch 100 of 150\n",
      "CV Accuracy at Epoch 100: 0.8293\n",
      "Status: Epoch 120 of 150\n",
      "CV Accuracy at Epoch 120: 0.8244\n",
      "Status: Epoch 140 of 150\n",
      "CV Accuracy at Epoch 140: 0.8341\n",
      "Model training is complete.\n"
     ]
    },
    {
     "data": {
      "text/plain": [
       "0.8341463414634146"
      ]
     },
     "execution_count": 40,
     "metadata": {},
     "output_type": "execute_result"
    }
   ],
   "source": [
    "# Model Training\n",
    "layer_list = [128, 64, 32, 16, 8, 2] ; epochs = 150 ; alpha = .01 ; batch_size = 40\n",
    "W2, B2 = nn.train_neural_network_multiclass_w_tuning(train_data2,train_target,layer_list,epochs,alpha,batch_size,cv_data2,cv_target)\n",
    "\n",
    "yhat = nn.multi_class_predict(cv_data2,W2,B2)\n",
    "nn.multi_class_accuracy(cv_target,yhat)"
   ]
  },
  {
   "cell_type": "code",
   "execution_count": 41,
   "id": "7b0f4f01-0fd7-4397-9f2e-e6698fd68fa2",
   "metadata": {},
   "outputs": [
    {
     "data": {
      "text/plain": [
       "0.7804878048780488"
      ]
     },
     "execution_count": 41,
     "metadata": {},
     "output_type": "execute_result"
    }
   ],
   "source": [
    "# Model Testing\n",
    "yhat = nn.multi_class_predict(test_data2,W2,B2)\n",
    "nn.multi_class_accuracy(test_target,yhat)"
   ]
  },
  {
   "cell_type": "markdown",
   "id": "126a0227-417c-4903-b92c-4a88b30df589",
   "metadata": {},
   "source": [
    "### Summary"
   ]
  },
  {
   "cell_type": "markdown",
   "id": "843d8365-c593-44b4-933f-2c4def60393b",
   "metadata": {},
   "source": [
    "- Model 1 achieved a cross-validation accuracy of **~90.24%** and a test accuracy of **~88.78%**.\n",
    "- Model 2 achieved a cross-validation accuracy of **~83.41%** and a test accuracy of **~78.05%**.\n",
    "\n",
    "Both models show signs of slight overfitting. A potential next step would be to design and implement a decision tree ensemble to explore new model architectures and to improve generalization."
   ]
  }
 ],
 "metadata": {
  "kernelspec": {
   "display_name": "Python 3 (ipykernel)",
   "language": "python",
   "name": "python3"
  },
  "language_info": {
   "codemirror_mode": {
    "name": "ipython",
    "version": 3
   },
   "file_extension": ".py",
   "mimetype": "text/x-python",
   "name": "python",
   "nbconvert_exporter": "python",
   "pygments_lexer": "ipython3",
   "version": "3.11.13"
  }
 },
 "nbformat": 4,
 "nbformat_minor": 5
}
